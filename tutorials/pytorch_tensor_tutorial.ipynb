{
 "cells": [
  {
   "cell_type": "markdown",
   "metadata": {},
   "source": [
    "# PyTorch Tensors Tutorial\n",
    "Tensors are specialized data structures very similar to arrays and matrices. They encode model inputs, model outputs and model parameters. Tensors are similar to numpys ndarrays but can run on GPUs and other hardware. They can share the same underlying memory, therefore no need to copy data. Tensors are optimized for automatic differentiation.\n",
    "\n",
    "Note: Differentiation is the process of finding the rate of change of a function with respect to one of its variables. In simpler terms, it calculates the slope of a function at a particular point. The result of differentiation is the derivative of the function. The derivative represents the function's rate of change at any given point and can also be thought of as the function's instantaneous rate of change."
   ]
  },
  {
   "cell_type": "code",
   "execution_count": 2,
   "metadata": {},
   "outputs": [],
   "source": [
    "import torch\n",
    "import numpy as np"
   ]
  }
 ],
 "metadata": {
  "kernelspec": {
   "display_name": "Python 3.11.4 ('nn_zero_to_hero')",
   "language": "python",
   "name": "python3"
  },
  "language_info": {
   "codemirror_mode": {
    "name": "ipython",
    "version": 3
   },
   "file_extension": ".py",
   "mimetype": "text/x-python",
   "name": "python",
   "nbconvert_exporter": "python",
   "pygments_lexer": "ipython3",
   "version": "3.11.4"
  },
  "orig_nbformat": 4,
  "vscode": {
   "interpreter": {
    "hash": "a907067d6643e1318b759f9782b3c52241cf1dcfd12ed6d1ea57110335cf1d4b"
   }
  }
 },
 "nbformat": 4,
 "nbformat_minor": 2
}
