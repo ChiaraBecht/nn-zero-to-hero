{
 "cells": [
  {
   "cell_type": "markdown",
   "metadata": {},
   "source": [
    "# PyTorch Tensors Tutorial\n",
    "Tensors are specialized data structures very similar to arrays and matrices. They encode model inputs, model outputs and model parameters. Tensors are similar to numpys ndarrays but can run on GPUs and other hardware. They can share the same underlying memory, therefore no need to copy data. Tensors are optimized for automatic differentiation.\n",
    "\n",
    "Note: Differentiation is the process of finding the rate of change of a function with respect to one of its variables. In simpler terms, it calculates the slope of a function at a particular point. The result of differentiation is the derivative of the function. The derivative represents the function's rate of change at any given point and can also be thought of as the function's instantaneous rate of change."
   ]
  },
  {
   "cell_type": "code",
   "execution_count": 2,
   "metadata": {},
   "outputs": [],
   "source": [
    "import torch\n",
    "import numpy as np"
   ]
  },
  {
   "cell_type": "markdown",
   "metadata": {},
   "source": [
    "## Intializing a Tensor directly from data\n",
    "Here the data is stored in a list of lists which results in a 2 x 2 tensor. The data type is automatically inferred as int64."
   ]
  },
  {
   "cell_type": "code",
   "execution_count": 12,
   "metadata": {},
   "outputs": [
    {
     "name": "stdout",
     "output_type": "stream",
     "text": [
      "tensor([[1, 2],\n",
      "        [3, 4]])\n",
      "torch.Size([2, 2])\n",
      "torch.int64\n"
     ]
    }
   ],
   "source": [
    "data = [[1, 2], [3, 4]]\n",
    "x_data = torch.tensor(data)\n",
    "print(x_data)\n",
    "print(x_data.shape)\n",
    "print(x_data.dtype)"
   ]
  },
  {
   "cell_type": "code",
   "execution_count": 13,
   "metadata": {},
   "outputs": [
    {
     "name": "stdout",
     "output_type": "stream",
     "text": [
      "tensor([[1., 2.],\n",
      "        [3., 4.]])\n",
      "torch.Size([2, 2])\n",
      "torch.float32\n"
     ]
    }
   ],
   "source": [
    "data_f = [[1., 2.], [3., 4.]]\n",
    "x_data_f = torch.tensor(data_f)\n",
    "print(x_data_f)\n",
    "print(x_data_f.shape)\n",
    "print(x_data_f.dtype)"
   ]
  },
  {
   "cell_type": "markdown",
   "metadata": {},
   "source": [
    "## Intitalizing a Tensor from a numpy array"
   ]
  },
  {
   "cell_type": "code",
   "execution_count": 17,
   "metadata": {},
   "outputs": [
    {
     "name": "stdout",
     "output_type": "stream",
     "text": [
      "tensor([[1, 2],\n",
      "        [3, 4]], dtype=torch.int32)\n",
      "torch.Size([2, 2])\n"
     ]
    }
   ],
   "source": [
    "np_array = np.array(data)\n",
    "x_np = torch.from_numpy(np_array)\n",
    "print(x_np)\n",
    "print(x_np.shape)"
   ]
  },
  {
   "cell_type": "code",
   "execution_count": 18,
   "metadata": {},
   "outputs": [
    {
     "name": "stdout",
     "output_type": "stream",
     "text": [
      "tensor([[1., 2.],\n",
      "        [3., 4.]], dtype=torch.float64)\n",
      "torch.Size([2, 2])\n"
     ]
    }
   ],
   "source": [
    "np_array = np.array(data_f)\n",
    "x_np = torch.from_numpy(np_array)\n",
    "print(x_np)\n",
    "print(x_np.shape)"
   ]
  },
  {
   "cell_type": "markdown",
   "metadata": {},
   "source": [
    "## Initalizing Tensor from another Tensor\n",
    "The new tensor has the same properties (shape and datatype) as the first tensor unless explicitly overwritten."
   ]
  },
  {
   "cell_type": "code",
   "execution_count": 21,
   "metadata": {},
   "outputs": [
    {
     "name": "stdout",
     "output_type": "stream",
     "text": [
      "tensor([[1, 1],\n",
      "        [1, 1]])\n",
      "torch.Size([2, 2])\n",
      "torch.int64\n"
     ]
    }
   ],
   "source": [
    "x_ones = torch.ones_like(x_data)\n",
    "print(x_ones)\n",
    "print(x_ones.shape)\n",
    "print(x_ones.dtype)"
   ]
  },
  {
   "cell_type": "code",
   "execution_count": 22,
   "metadata": {},
   "outputs": [
    {
     "name": "stdout",
     "output_type": "stream",
     "text": [
      "tensor([[0.5764, 0.1695],\n",
      "        [0.3418, 0.8110]])\n",
      "torch.Size([2, 2])\n",
      "torch.float32\n"
     ]
    }
   ],
   "source": [
    "x_rand = torch.rand_like(x_data, dtype=torch.float)\n",
    "print(x_rand)\n",
    "print(x_rand.shape)\n",
    "print(x_rand.dtype)"
   ]
  },
  {
   "cell_type": "markdown",
   "metadata": {},
   "source": [
    "## Initialize Tensor from random or constant values\n",
    "A tensor can be initialzed by defining the shape as a tuple and fill a tensor with given shape and constant values."
   ]
  },
  {
   "cell_type": "code",
   "execution_count": 27,
   "metadata": {},
   "outputs": [
    {
     "name": "stdout",
     "output_type": "stream",
     "text": [
      "tensor([[0.9414, 0.9954, 0.6404],\n",
      "        [0.0100, 0.5657, 0.2297]])\n",
      "torch.Size([2, 3])\n",
      "torch.float32\n"
     ]
    }
   ],
   "source": [
    "shape = (2,3,)\n",
    "rand_tensor = torch.rand(shape)\n",
    "print(rand_tensor)\n",
    "print(rand_tensor.shape)\n",
    "print(rand_tensor.dtype)"
   ]
  },
  {
   "cell_type": "code",
   "execution_count": 28,
   "metadata": {},
   "outputs": [
    {
     "name": "stdout",
     "output_type": "stream",
     "text": [
      "tensor([[1., 1., 1.],\n",
      "        [1., 1., 1.]])\n",
      "torch.Size([2, 3])\n"
     ]
    }
   ],
   "source": [
    "ones_tensor = torch.ones(shape)\n",
    "print(ones_tensor)\n",
    "print(ones_tensor.shape)"
   ]
  },
  {
   "cell_type": "code",
   "execution_count": 29,
   "metadata": {},
   "outputs": [
    {
     "name": "stdout",
     "output_type": "stream",
     "text": [
      "tensor([[0., 0., 0.],\n",
      "        [0., 0., 0.]])\n",
      "torch.Size([2, 3])\n"
     ]
    }
   ],
   "source": [
    "zero_tensor = torch.zeros(shape)\n",
    "print(zero_tensor)\n",
    "print(zero_tensor.shape)"
   ]
  },
  {
   "cell_type": "markdown",
   "metadata": {},
   "source": [
    "## Attributes of Tensors\n",
    "The tensor attributes describe the tensor shape and dtype. Furthermore they store the device the tensor is stored on. An important attribute for NN's is the grad attribute which is set to False by default."
   ]
  },
  {
   "cell_type": "code",
   "execution_count": 33,
   "metadata": {},
   "outputs": [
    {
     "name": "stdout",
     "output_type": "stream",
     "text": [
      "Tensor shape: torch.Size([2, 3])\n",
      "Tensor dtype: torch.float32\n",
      "Device where tensor is stored: cpu\n",
      "Tensor gradient: None\n"
     ]
    }
   ],
   "source": [
    "print('Tensor shape:', ones_tensor.shape)\n",
    "print('Tensor dtype:', ones_tensor.dtype)\n",
    "print('Device where tensor is stored:', ones_tensor.device)\n",
    "print('Tensor gradient:', ones_tensor.grad)"
   ]
  },
  {
   "cell_type": "code",
   "execution_count": 35,
   "metadata": {},
   "outputs": [
    {
     "name": "stdout",
     "output_type": "stream",
     "text": [
      "tensor([[1., 1., 1.],\n",
      "        [1., 1., 1.]], requires_grad=True)\n",
      "None\n"
     ]
    }
   ],
   "source": [
    "ones_tensor = torch.ones(shape, requires_grad=True)\n",
    "print(ones_tensor)\n",
    "print(ones_tensor.grad)"
   ]
  },
  {
   "cell_type": "markdown",
   "metadata": {},
   "source": [
    "## Operations on Tensors\n",
    "A collection of all Tensor operations can be found here: https://pytorch.org/docs/stable/torch.html\n",
    "Each operation can be conducted on GPU or CPU. CPU is used by default. Moving to GPU needs to be done explicitly."
   ]
  },
  {
   "cell_type": "code",
   "execution_count": 40,
   "metadata": {},
   "outputs": [
    {
     "name": "stdout",
     "output_type": "stream",
     "text": [
      "initialzed tensor with shape 3 x 5 tensor([[0., 0., 0., 0., 0.],\n",
      "        [0., 0., 0., 0., 0.],\n",
      "        [0., 0., 0., 0., 0.]])\n",
      "Overwrite the 4th element in the first row: tensor([[0., 0., 0., 9., 0.],\n",
      "        [0., 0., 0., 0., 0.],\n",
      "        [0., 0., 0., 0., 0.]])\n",
      "first row: tensor([0., 0., 0., 9., 0.])\n",
      "4th column: tensor([9., 0., 0.])\n"
     ]
    }
   ],
   "source": [
    "# Slice and index Tensors\n",
    "tensor = torch.zeros((3,5))\n",
    "print('initialzed tensor with shape 3 x 5', tensor)\n",
    "tensor[0,3] = 9.\n",
    "print('Overwrite the 4th element in the first row:', tensor)\n",
    "print('first row:', tensor[0])\n",
    "print('4th column:', tensor[:,3])"
   ]
  },
  {
   "cell_type": "code",
   "execution_count": 43,
   "metadata": {},
   "outputs": [
    {
     "name": "stdout",
     "output_type": "stream",
     "text": [
      "original tensor shape: torch.Size([3, 5])\n",
      "tensor([[0., 0., 0., 9., 0., 0., 0., 0., 9., 0.],\n",
      "        [0., 0., 0., 0., 0., 0., 0., 0., 0., 0.],\n",
      "        [0., 0., 0., 0., 0., 0., 0., 0., 0., 0.]])\n",
      "t1 concatenated torch.Size([3, 10])\n",
      "tensor([[0., 0., 0., 9., 0.],\n",
      "        [0., 0., 0., 0., 0.],\n",
      "        [0., 0., 0., 0., 0.],\n",
      "        [0., 0., 0., 9., 0.],\n",
      "        [0., 0., 0., 0., 0.],\n",
      "        [0., 0., 0., 0., 0.]])\n",
      "t2 concatenated torch.Size([6, 5])\n"
     ]
    }
   ],
   "source": [
    "# Concatenate tensors by adding columns\n",
    "print('original tensor shape:', tensor.shape)\n",
    "t1 = torch.cat([tensor, tensor], dim = 1)\n",
    "print(t1)\n",
    "print('t1 concatenated', t1.shape)\n",
    "\n",
    "# Concatenate tensors by adding rows\n",
    "t2 = torch.cat([tensor, tensor], dim = 0)\n",
    "print(t2)\n",
    "print('t2 concatenated', t2.shape)"
   ]
  },
  {
   "cell_type": "code",
   "execution_count": 50,
   "metadata": {},
   "outputs": [
    {
     "name": "stdout",
     "output_type": "stream",
     "text": [
      "tensor([[  5.,   5.,  14.],\n",
      "        [  5.,   5.,  14.],\n",
      "        [ 14.,  14., 104.]])\n"
     ]
    },
    {
     "data": {
      "text/plain": [
       "tensor([[  5.,   5.,  14.],\n",
       "        [  5.,   5.,  14.],\n",
       "        [ 14.,  14., 104.]])"
      ]
     },
     "execution_count": 50,
     "metadata": {},
     "output_type": "execute_result"
    }
   ],
   "source": [
    "# arithmetic operations\n",
    "# matrix multiplication row dimension of first tensor must fit column dimension of second tensor\n",
    "tensor = torch.ones((3, 5))\n",
    "tensor[1,4] = 1\n",
    "tensor[0,1] = 1\n",
    "tensor[2,3] = 10\n",
    "m = tensor @ tensor.T\n",
    "print(m)\n",
    "m1 = tensor.matmul(tensor.T)\n",
    "m1\n"
   ]
  },
  {
   "cell_type": "code",
   "execution_count": 52,
   "metadata": {},
   "outputs": [
    {
     "name": "stdout",
     "output_type": "stream",
     "text": [
      "tensor([[  1.,   1.,   1.,   1.,   1.],\n",
      "        [  1.,   1.,   1.,   1.,   1.],\n",
      "        [  1.,   1.,   1., 100.,   1.]])\n"
     ]
    },
    {
     "data": {
      "text/plain": [
       "tensor([[  1.,   1.,   1.,   1.,   1.],\n",
       "        [  1.,   1.,   1.,   1.,   1.],\n",
       "        [  1.,   1.,   1., 100.,   1.]])"
      ]
     },
     "execution_count": 52,
     "metadata": {},
     "output_type": "execute_result"
    }
   ],
   "source": [
    "# element-wise product\n",
    "z1 = tensor * tensor\n",
    "print(z1)\n",
    "\n",
    "z2 = tensor.mul(tensor)\n",
    "z2"
   ]
  },
  {
   "cell_type": "code",
   "execution_count": 54,
   "metadata": {},
   "outputs": [
    {
     "name": "stdout",
     "output_type": "stream",
     "text": [
      "tensor([[ 2.,  2.,  2.,  2.,  2.],\n",
      "        [ 2.,  2.,  2.,  2.,  2.],\n",
      "        [ 2.,  2.,  2., 20.,  2.]])\n",
      "tensor([[ 2.,  2.,  2.,  2.,  2.],\n",
      "        [ 2.,  2.,  2.,  2.,  2.],\n",
      "        [ 2.,  2.,  2., 20.,  2.]])\n"
     ]
    }
   ],
   "source": [
    "#element-wise addition\n",
    "print(tensor + tensor)\n",
    "print(tensor.add(tensor))"
   ]
  },
  {
   "cell_type": "code",
   "execution_count": 59,
   "metadata": {},
   "outputs": [
    {
     "name": "stdout",
     "output_type": "stream",
     "text": [
      "tensor(24.)\n",
      "24.0\n",
      "tensor(1.6000)\n",
      "1.600000023841858\n"
     ]
    }
   ],
   "source": [
    "# aggregating a tensor into a single element tensor and getting the value\n",
    "# summing\n",
    "agg = tensor.sum()\n",
    "print(agg)\n",
    "print(agg.item())\n",
    "\n",
    "# averaging\n",
    "print(tensor.mean())\n",
    "print(tensor.mean().item())"
   ]
  },
  {
   "cell_type": "code",
   "execution_count": 60,
   "metadata": {},
   "outputs": [
    {
     "name": "stdout",
     "output_type": "stream",
     "text": [
      "tensor([[ 1.,  1.,  1.,  1.,  1.],\n",
      "        [ 1.,  1.,  1.,  1.,  1.],\n",
      "        [ 1.,  1.,  1., 10.,  1.]])\n",
      "tensor([[ 5.,  5.,  5.,  5.,  5.],\n",
      "        [ 5.,  5.,  5.,  5.,  5.],\n",
      "        [ 5.,  5.,  5., 14.,  5.]])\n"
     ]
    }
   ],
   "source": [
    "# inplace operations\n",
    "print(tensor)\n",
    "tensor.add_(4)\n",
    "print(tensor)"
   ]
  }
 ],
 "metadata": {
  "kernelspec": {
   "display_name": "Python 3.11.4 ('nn_zero_to_hero')",
   "language": "python",
   "name": "python3"
  },
  "language_info": {
   "codemirror_mode": {
    "name": "ipython",
    "version": 3
   },
   "file_extension": ".py",
   "mimetype": "text/x-python",
   "name": "python",
   "nbconvert_exporter": "python",
   "pygments_lexer": "ipython3",
   "version": "3.11.4"
  },
  "orig_nbformat": 4,
  "vscode": {
   "interpreter": {
    "hash": "a907067d6643e1318b759f9782b3c52241cf1dcfd12ed6d1ea57110335cf1d4b"
   }
  }
 },
 "nbformat": 4,
 "nbformat_minor": 2
}
